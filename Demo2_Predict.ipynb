{
 "cells": [
  {
   "cell_type": "markdown",
   "metadata": {},
   "source": [
    "## Demo#2 - Machine Learning Pipeline for Stock Price Movement Prediction\n",
    "\n",
    "After Demo #1, we can retrieve the stock indicator features back from the SQL database. The stock indicator features can be used to predict the stock price momentum trend.\n",
    "\n",
    "This notebook will cover the follow parts:\n",
    "* [1.) Retrieving Stock Data from SQL Database](#1)\n",
    "* [2.) Train and Test on the 10-Year Stock Data](#2)\n",
    "* [3.) Simulate Stock Returns for the Last 2-Years](#3)"
   ]
  },
  {
   "cell_type": "code",
   "execution_count": 315,
   "metadata": {},
   "outputs": [],
   "source": [
    "import pandas as pd\n",
    "import numpy as np\n",
    "import matplotlib.pyplot as plt\n",
    "from sklearn.preprocessing import StandardScaler\n",
    "from sklearn.metrics import confusion_matrix\n",
    "from sklearn.model_selection import cross_val_score\n",
    "import warnings\n",
    "warnings.filterwarnings('ignore')"
   ]
  },
  {
   "cell_type": "markdown",
   "metadata": {},
   "source": [
    "<a id=\"1\"></a>\n",
    "## 1.) Retrieving Stock Data from SQL Database\n",
    "\n",
    "Using SQLite and the sqlalchemy library, we can retrieve the stock indicator features as well as closing price, date, and buy signal labels"
   ]
  },
  {
   "cell_type": "markdown",
   "metadata": {},
   "source": [
    "### Dataframe to SQL"
   ]
  },
  {
   "cell_type": "code",
   "execution_count": 336,
   "metadata": {},
   "outputs": [],
   "source": [
    "from sqlalchemy import create_engine\n",
    "\n",
    "db_name = 'All_stocks.sql'\n",
    "db = create_engine('sqlite:///' + db_name)\n",
    "conn = db.connect()"
   ]
  },
  {
   "cell_type": "markdown",
   "metadata": {},
   "source": [
    "Let's check which stock data tables are available in the SQL database first"
   ]
  },
  {
   "cell_type": "code",
   "execution_count": 337,
   "metadata": {},
   "outputs": [
    {
     "data": {
      "text/plain": [
       "[('SPY_LogitReg',), ('Testing123',)]"
      ]
     },
     "execution_count": 337,
     "metadata": {},
     "output_type": "execute_result"
    }
   ],
   "source": [
    "conn.execute(\"\"\"\n",
    "SELECT name FROM sqlite_master \n",
    "WHERE type = 'table' AND name NOT LIKE 'sqlite_%';\n",
    "\"\"\").fetchall()"
   ]
  },
  {
   "cell_type": "code",
   "execution_count": 338,
   "metadata": {},
   "outputs": [],
   "source": [
    "data = pd.read_sql(\"SELECT * FROM SPY_LogitReg\", conn)\n",
    "data.drop(['index'], inplace = True, axis = 1)\n",
    "data['Date'] = data['Date'].str.replace('00:00:00.000000','')"
   ]
  },
  {
   "cell_type": "code",
   "execution_count": 340,
   "metadata": {},
   "outputs": [],
   "source": [
    "conn.close()"
   ]
  },
  {
   "cell_type": "markdown",
   "metadata": {},
   "source": [
    "<a id=\"2\"></a>\n",
    "## 2.) Train and Test on the 10-Year Stock Data\n",
    "\n",
    "Since there are 10-years worth of stock data, by training on the data from the first 8-years, we can see how well the model will predict the stock price trends of the last 2-years.\n",
    "<Br>This is essentially a 80:20 (train:test) split."
   ]
  },
  {
   "cell_type": "code",
   "execution_count": 260,
   "metadata": {},
   "outputs": [],
   "source": [
    "#Train on the first 8-years (~80% of data)\n",
    "length = int(len(data)*0.8)\n",
    "\n",
    "x_train = data.iloc[0:length,0:-3].values\n",
    "y_train = data.iloc[0:length, -1].values\n",
    "\n",
    "x_test = data.iloc[length:,0:-3].values\n",
    "y_test = data.iloc[length:, -1].values"
   ]
  },
  {
   "cell_type": "markdown",
   "metadata": {},
   "source": [
    "Scaling the data is usually necessary since every feature has varying size and degree of values."
   ]
  },
  {
   "cell_type": "code",
   "execution_count": 261,
   "metadata": {},
   "outputs": [],
   "source": [
    "train_scaler = StandardScaler()\n",
    "scaled_x_train = train_scaler.fit_transform(x_train)\n",
    "scaled_x_test = train_scaler.transform(x_test)"
   ]
  },
  {
   "cell_type": "code",
   "execution_count": 262,
   "metadata": {},
   "outputs": [],
   "source": [
    "# from sklearn.ensemble import RandomForestClassifier\n",
    "# reg = RandomForestClassifier(n_estimators=150, n_jobs=-1,\n",
    "#                             min_samples_split =50, random_state = 42)"
   ]
  },
  {
   "cell_type": "code",
   "execution_count": 263,
   "metadata": {},
   "outputs": [],
   "source": [
    "from sklearn.linear_model import LogisticRegression\n",
    "reg = LogisticRegression(max_iter = 10000, tol=0.0001, C=1, random_state = 42, n_jobs = -1)"
   ]
  },
  {
   "cell_type": "code",
   "execution_count": 264,
   "metadata": {},
   "outputs": [
    {
     "data": {
      "text/plain": [
       "LogisticRegression(C=1, max_iter=10000, n_jobs=-1, random_state=42)"
      ]
     },
     "execution_count": 264,
     "metadata": {},
     "output_type": "execute_result"
    }
   ],
   "source": [
    "reg.fit(scaled_x_train,y_train)"
   ]
  },
  {
   "cell_type": "code",
   "execution_count": 265,
   "metadata": {},
   "outputs": [],
   "source": [
    "y_pred = reg.predict(scaled_x_test)"
   ]
  },
  {
   "cell_type": "markdown",
   "metadata": {},
   "source": [
    "<a id=\"3\"></a>\n",
    "## 3.) Simulate Stock Returns for the Last 2-Years\n",
    "\n",
    "Now that we have the prediction for the most recent 20% of the data (last 2-years), we can use these predicted price trend signals to simulate the investment returns if one were to follow these predicted signals.\n",
    "\n",
    "In order to do this, first the predicted sell signal must be obtained as well (which is just the inverse of the buy predicted signal)"
   ]
  },
  {
   "cell_type": "code",
   "execution_count": 266,
   "metadata": {},
   "outputs": [],
   "source": [
    "test = data.iloc[length:]\n",
    "test['buy_pred_sig'] = y_pred\n",
    "test['sell_pred_sig'] = abs(y_pred-1)"
   ]
  },
  {
   "cell_type": "code",
   "execution_count": 267,
   "metadata": {},
   "outputs": [],
   "source": [
    "test.reset_index(inplace = True, drop = True)"
   ]
  },
  {
   "cell_type": "markdown",
   "metadata": {},
   "source": [
    "In order to simulate the stock returns, the last data point (yesterday's stock signal) must be set to \"sell\" to calculate the total returns as if the stock was sold yesterday."
   ]
  },
  {
   "cell_type": "code",
   "execution_count": 268,
   "metadata": {},
   "outputs": [],
   "source": [
    "test.loc[test.shape[0]-1, 'buy_pred_sig']= 0\n",
    "test.loc[test.shape[0]-1, 'sell_pred_sig']= 1"
   ]
  },
  {
   "cell_type": "code",
   "execution_count": 269,
   "metadata": {},
   "outputs": [
    {
     "data": {
      "text/html": [
       "<div>\n",
       "<style scoped>\n",
       "    .dataframe tbody tr th:only-of-type {\n",
       "        vertical-align: middle;\n",
       "    }\n",
       "\n",
       "    .dataframe tbody tr th {\n",
       "        vertical-align: top;\n",
       "    }\n",
       "\n",
       "    .dataframe thead th {\n",
       "        text-align: right;\n",
       "    }\n",
       "</style>\n",
       "<table border=\"1\" class=\"dataframe\">\n",
       "  <thead>\n",
       "    <tr style=\"text-align: right;\">\n",
       "      <th></th>\n",
       "      <th>RSI_19</th>\n",
       "      <th>Stochastic_7</th>\n",
       "      <th>RSI_18</th>\n",
       "      <th>ema_slope_37</th>\n",
       "      <th>Will_R_81</th>\n",
       "      <th>ema_slope_33</th>\n",
       "      <th>ema_slope_7</th>\n",
       "      <th>Close</th>\n",
       "      <th>Date</th>\n",
       "      <th>buy_sig</th>\n",
       "      <th>buy_pred_sig</th>\n",
       "      <th>sell_pred_sig</th>\n",
       "      <th>Buy_price</th>\n",
       "      <th>Sell_price</th>\n",
       "    </tr>\n",
       "  </thead>\n",
       "  <tbody>\n",
       "    <tr>\n",
       "      <td>0</td>\n",
       "      <td>66.828795</td>\n",
       "      <td>0.936275</td>\n",
       "      <td>61.796407</td>\n",
       "      <td>1</td>\n",
       "      <td>-4.750499</td>\n",
       "      <td>1</td>\n",
       "      <td>1</td>\n",
       "      <td>281.99</td>\n",
       "      <td>2018-09-21</td>\n",
       "      <td>0.0</td>\n",
       "      <td>1.0</td>\n",
       "      <td>0.0</td>\n",
       "      <td>281.99</td>\n",
       "      <td>0.00</td>\n",
       "    </tr>\n",
       "    <tr>\n",
       "      <td>1</td>\n",
       "      <td>58.040216</td>\n",
       "      <td>0.708333</td>\n",
       "      <td>57.680631</td>\n",
       "      <td>1</td>\n",
       "      <td>-8.463074</td>\n",
       "      <td>1</td>\n",
       "      <td>1</td>\n",
       "      <td>281.06</td>\n",
       "      <td>2018-09-24</td>\n",
       "      <td>0.0</td>\n",
       "      <td>1.0</td>\n",
       "      <td>0.0</td>\n",
       "      <td>281.06</td>\n",
       "      <td>0.00</td>\n",
       "    </tr>\n",
       "    <tr>\n",
       "      <td>2</td>\n",
       "      <td>56.708712</td>\n",
       "      <td>0.644608</td>\n",
       "      <td>52.046944</td>\n",
       "      <td>1</td>\n",
       "      <td>-9.500998</td>\n",
       "      <td>1</td>\n",
       "      <td>1</td>\n",
       "      <td>280.80</td>\n",
       "      <td>2018-09-25</td>\n",
       "      <td>0.0</td>\n",
       "      <td>1.0</td>\n",
       "      <td>0.0</td>\n",
       "      <td>280.80</td>\n",
       "      <td>0.00</td>\n",
       "    </tr>\n",
       "    <tr>\n",
       "      <td>3</td>\n",
       "      <td>49.086985</td>\n",
       "      <td>0.108949</td>\n",
       "      <td>53.153493</td>\n",
       "      <td>1</td>\n",
       "      <td>-12.854291</td>\n",
       "      <td>1</td>\n",
       "      <td>0</td>\n",
       "      <td>279.96</td>\n",
       "      <td>2018-09-26</td>\n",
       "      <td>0.0</td>\n",
       "      <td>1.0</td>\n",
       "      <td>0.0</td>\n",
       "      <td>279.96</td>\n",
       "      <td>0.00</td>\n",
       "    </tr>\n",
       "    <tr>\n",
       "      <td>4</td>\n",
       "      <td>55.687546</td>\n",
       "      <td>0.340611</td>\n",
       "      <td>55.656795</td>\n",
       "      <td>1</td>\n",
       "      <td>-9.740519</td>\n",
       "      <td>1</td>\n",
       "      <td>1</td>\n",
       "      <td>280.74</td>\n",
       "      <td>2018-09-27</td>\n",
       "      <td>0.0</td>\n",
       "      <td>1.0</td>\n",
       "      <td>0.0</td>\n",
       "      <td>280.74</td>\n",
       "      <td>0.00</td>\n",
       "    </tr>\n",
       "    <tr>\n",
       "      <td>...</td>\n",
       "      <td>...</td>\n",
       "      <td>...</td>\n",
       "      <td>...</td>\n",
       "      <td>...</td>\n",
       "      <td>...</td>\n",
       "      <td>...</td>\n",
       "      <td>...</td>\n",
       "      <td>...</td>\n",
       "      <td>...</td>\n",
       "      <td>...</td>\n",
       "      <td>...</td>\n",
       "      <td>...</td>\n",
       "      <td>...</td>\n",
       "      <td>...</td>\n",
       "    </tr>\n",
       "    <tr>\n",
       "      <td>479</td>\n",
       "      <td>65.954413</td>\n",
       "      <td>1.000000</td>\n",
       "      <td>73.744186</td>\n",
       "      <td>1</td>\n",
       "      <td>-0.683405</td>\n",
       "      <td>1</td>\n",
       "      <td>1</td>\n",
       "      <td>338.64</td>\n",
       "      <td>2020-08-18</td>\n",
       "      <td>1.0</td>\n",
       "      <td>1.0</td>\n",
       "      <td>0.0</td>\n",
       "      <td>338.64</td>\n",
       "      <td>0.00</td>\n",
       "    </tr>\n",
       "    <tr>\n",
       "      <td>480</td>\n",
       "      <td>70.724207</td>\n",
       "      <td>0.758562</td>\n",
       "      <td>75.271479</td>\n",
       "      <td>1</td>\n",
       "      <td>-3.509289</td>\n",
       "      <td>1</td>\n",
       "      <td>1</td>\n",
       "      <td>337.23</td>\n",
       "      <td>2020-08-19</td>\n",
       "      <td>1.0</td>\n",
       "      <td>1.0</td>\n",
       "      <td>0.0</td>\n",
       "      <td>337.23</td>\n",
       "      <td>0.00</td>\n",
       "    </tr>\n",
       "    <tr>\n",
       "      <td>481</td>\n",
       "      <td>76.048904</td>\n",
       "      <td>0.801105</td>\n",
       "      <td>74.244400</td>\n",
       "      <td>1</td>\n",
       "      <td>-1.961073</td>\n",
       "      <td>1</td>\n",
       "      <td>1</td>\n",
       "      <td>338.28</td>\n",
       "      <td>2020-08-20</td>\n",
       "      <td>1.0</td>\n",
       "      <td>1.0</td>\n",
       "      <td>0.0</td>\n",
       "      <td>338.28</td>\n",
       "      <td>0.00</td>\n",
       "    </tr>\n",
       "    <tr>\n",
       "      <td>482</td>\n",
       "      <td>75.202488</td>\n",
       "      <td>1.000000</td>\n",
       "      <td>80.305535</td>\n",
       "      <td>1</td>\n",
       "      <td>-0.353305</td>\n",
       "      <td>1</td>\n",
       "      <td>1</td>\n",
       "      <td>339.48</td>\n",
       "      <td>2020-08-21</td>\n",
       "      <td>1.0</td>\n",
       "      <td>1.0</td>\n",
       "      <td>0.0</td>\n",
       "      <td>339.48</td>\n",
       "      <td>0.00</td>\n",
       "    </tr>\n",
       "    <tr>\n",
       "      <td>483</td>\n",
       "      <td>82.318979</td>\n",
       "      <td>1.000000</td>\n",
       "      <td>79.967330</td>\n",
       "      <td>1</td>\n",
       "      <td>-0.112344</td>\n",
       "      <td>1</td>\n",
       "      <td>1</td>\n",
       "      <td>342.92</td>\n",
       "      <td>2020-08-24</td>\n",
       "      <td>1.0</td>\n",
       "      <td>0.0</td>\n",
       "      <td>1.0</td>\n",
       "      <td>0.00</td>\n",
       "      <td>342.92</td>\n",
       "    </tr>\n",
       "  </tbody>\n",
       "</table>\n",
       "<p>484 rows × 14 columns</p>\n",
       "</div>"
      ],
      "text/plain": [
       "        RSI_19  Stochastic_7     RSI_18  ema_slope_37  Will_R_81  \\\n",
       "0    66.828795      0.936275  61.796407             1  -4.750499   \n",
       "1    58.040216      0.708333  57.680631             1  -8.463074   \n",
       "2    56.708712      0.644608  52.046944             1  -9.500998   \n",
       "3    49.086985      0.108949  53.153493             1 -12.854291   \n",
       "4    55.687546      0.340611  55.656795             1  -9.740519   \n",
       "..         ...           ...        ...           ...        ...   \n",
       "479  65.954413      1.000000  73.744186             1  -0.683405   \n",
       "480  70.724207      0.758562  75.271479             1  -3.509289   \n",
       "481  76.048904      0.801105  74.244400             1  -1.961073   \n",
       "482  75.202488      1.000000  80.305535             1  -0.353305   \n",
       "483  82.318979      1.000000  79.967330             1  -0.112344   \n",
       "\n",
       "     ema_slope_33  ema_slope_7   Close         Date  buy_sig  buy_pred_sig  \\\n",
       "0               1            1  281.99  2018-09-21       0.0           1.0   \n",
       "1               1            1  281.06  2018-09-24       0.0           1.0   \n",
       "2               1            1  280.80  2018-09-25       0.0           1.0   \n",
       "3               1            0  279.96  2018-09-26       0.0           1.0   \n",
       "4               1            1  280.74  2018-09-27       0.0           1.0   \n",
       "..            ...          ...     ...          ...      ...           ...   \n",
       "479             1            1  338.64  2020-08-18       1.0           1.0   \n",
       "480             1            1  337.23  2020-08-19       1.0           1.0   \n",
       "481             1            1  338.28  2020-08-20       1.0           1.0   \n",
       "482             1            1  339.48  2020-08-21       1.0           1.0   \n",
       "483             1            1  342.92  2020-08-24       1.0           0.0   \n",
       "\n",
       "     sell_pred_sig  Buy_price  Sell_price  \n",
       "0              0.0     281.99        0.00  \n",
       "1              0.0     281.06        0.00  \n",
       "2              0.0     280.80        0.00  \n",
       "3              0.0     279.96        0.00  \n",
       "4              0.0     280.74        0.00  \n",
       "..             ...        ...         ...  \n",
       "479            0.0     338.64        0.00  \n",
       "480            0.0     337.23        0.00  \n",
       "481            0.0     338.28        0.00  \n",
       "482            0.0     339.48        0.00  \n",
       "483            1.0       0.00      342.92  \n",
       "\n",
       "[484 rows x 14 columns]"
      ]
     },
     "execution_count": 269,
     "metadata": {},
     "output_type": "execute_result"
    }
   ],
   "source": [
    "test['Buy_price'] = test['buy_pred_sig']*test['Close']\n",
    "test['Sell_price'] = test['sell_pred_sig']*test['Close']\n",
    "test"
   ]
  },
  {
   "cell_type": "code",
   "execution_count": 270,
   "metadata": {},
   "outputs": [],
   "source": [
    "buy = False\n",
    "\n",
    "if test['Buy_price'].iloc[0] > 1:\n",
    "    buy_sell_index = [(0,'Buy', test['Buy_price'].iloc[0])]\n",
    "else:\n",
    "    buy_sell_index = [(0,'Buy', test['Sell_price'].iloc[0])]\n",
    "    \n",
    "for i in range(1,len(test.index)):\n",
    "    \n",
    "    #Looks for two buy and two sell indicators in a row\n",
    "    #Better safe than sorry, so sell when see first red, and buy when see 2nd green\n",
    "    if buy == False:\n",
    "        change = test['Buy_price'].iloc[i] - test['Buy_price'].iloc[i-1]\n",
    "#         if change == 0:\n",
    "#             if test['Sell_price'].iloc[i-1] != 0:\n",
    "        if abs(change) == test['Buy_price'].iloc[i-1]:\n",
    "            if test['Sell_price'].iloc[i-1] == 0:\n",
    "                buy_sell_index.append((i, 'Sell', test['Sell_price'].iloc[i]))\n",
    "                buy = True #Means sell and now looking for entry price to buy\n",
    "\n",
    "    elif buy == True:\n",
    "        change = test['Sell_price'].iloc[i] - test['Sell_price'].iloc[i-1]\n",
    "      #  if change == 0:\n",
    "       #     if test['Buy_price'].iloc[i-1] != 0:\n",
    "        if abs(change) == test['Sell_price'].iloc[i-1]:\n",
    "            if test['Buy_price'].iloc[i-1] == 0:\n",
    "                buy_sell_index.append((i,'Buy', test['Buy_price'].iloc[i]))\n",
    "                buy = False #Means sell and now looking for entry price to buy"
   ]
  },
  {
   "cell_type": "code",
   "execution_count": 271,
   "metadata": {},
   "outputs": [],
   "source": [
    "simulator = pd.DataFrame(buy_sell_index)\n",
    "simulator.columns = ['index', 'buy-sell','price']"
   ]
  },
  {
   "cell_type": "markdown",
   "metadata": {},
   "source": [
    "Calculates the price change from simulation as well as total percent change"
   ]
  },
  {
   "cell_type": "code",
   "execution_count": 272,
   "metadata": {},
   "outputs": [],
   "source": [
    "price_change = []\n",
    "percent_change = []\n",
    "for i in range(1, len(simulator.index), 2):\n",
    "    change = simulator['price'].iloc[i] - simulator['price'].iloc[i-1]\n",
    "    price_change.append(change)\n",
    "    percent_change.append(100*change/simulator['price'].iloc[i-1])"
   ]
  },
  {
   "cell_type": "code",
   "execution_count": 273,
   "metadata": {},
   "outputs": [
    {
     "data": {
      "text/plain": [
       "49.19031077772371"
      ]
     },
     "execution_count": 273,
     "metadata": {},
     "output_type": "execute_result"
    }
   ],
   "source": [
    "total = 100\n",
    "for i in percent_change:\n",
    "    total = total*(i/100)+ total\n",
    "total = total - 100\n",
    "total"
   ]
  },
  {
   "cell_type": "code",
   "execution_count": 312,
   "metadata": {},
   "outputs": [
    {
     "data": {
      "image/png": "[encoded data removed]",
      "text/plain": [
       "<Figure size 720x360 with 1 Axes>"
      ]
     },
     "metadata": {
      "needs_background": "light"
     },
     "output_type": "display_data"
    }
   ],
   "source": [
    "plt.figure(figsize = (10, 5))\n",
    "plt.bar(np.arange(len(percent_change)), percent_change, label = 'Total Gains = (+%s percent)'%(int(total)))\n",
    "plt.title('Gains and Losses Using Model')\n",
    "plt.xlabel('# of Buy-Sell transactions')\n",
    "plt.ylabel('% Change')\n",
    "plt.legend(loc='upper left')\n",
    "plt.xlim(-1,20)\n",
    "plt.xticks(np.arange(0,20,2))\n",
    "plt.ylim(-10,20)\n",
    "#plt.savefig('SPY_2Years.jpg')"
   ]
  },
  {
   "cell_type": "code",
   "execution_count": 277,
   "metadata": {},
   "outputs": [
    {
     "data": {
      "text/plain": [
       "array([[ 90,  64],\n",
       "       [ 19, 311]], dtype=int64)"
      ]
     },
     "execution_count": 277,
     "metadata": {},
     "output_type": "execute_result"
    }
   ],
   "source": [
    "#Can use confusion matrix to get accuracy score and false positives/negatives\n",
    "\n",
    "from sklearn.metrics import confusion_matrix\n",
    "cm = confusion_matrix(y_test, y_pred_buy)\n",
    "cm"
   ]
  },
  {
   "cell_type": "code",
   "execution_count": 278,
   "metadata": {},
   "outputs": [
    {
     "data": {
      "text/plain": [
       "82.85123966942149"
      ]
     },
     "execution_count": 278,
     "metadata": {},
     "output_type": "execute_result"
    }
   ],
   "source": [
    "#Test accuracy\n",
    "accuracy = 100*(cm[0][0]+cm[1][1])/y_test.shape[0]\n",
    "accuracy"
   ]
  },
  {
   "cell_type": "code",
   "execution_count": 279,
   "metadata": {},
   "outputs": [],
   "source": [
    "test.set_index('Date', inplace=True)"
   ]
  },
  {
   "cell_type": "code",
   "execution_count": 313,
   "metadata": {},
   "outputs": [
    {
     "data": {
      "image/png": "[encoded data removed]",
      "text/plain": [
       "<Figure size 1440x720 with 1 Axes>"
      ]
     },
     "metadata": {
      "needs_background": "light"
     },
     "output_type": "display_data"
    }
   ],
   "source": [
    "plt.figure(figsize = (20, 10))\n",
    "plt.plot(test['Close'], label = 'SPY - Returns(%d)'%total, alpha = 0.45)\n",
    "#Plot additional scatter points for buy and sell signals\n",
    "\n",
    "plt.scatter(test.index, test['Buy_price'], label ='Up Trend', marker = '^', color = 'green')\n",
    "plt.scatter(test.index, test['Sell_price'], label ='Down Trend', marker = 'v', color = 'red')\n",
    "plt.title('Stock Price Trend Prediction')\n",
    "#plt.xlabel('# of Days')\n",
    "#plt.yscale(\"log\")\n",
    "plt.xticks(np.arange(0,len(test),40), rotation=20)\n",
    "plt.ylim(210,350)\n",
    "#plt.ylim(100, 400)\n",
    "\n",
    "plt.ylabel('Close Price $')\n",
    "plt.legend(loc='upper left')\n",
    "plt.rcParams.update({'font.size': 16})\n",
    "\n",
    "#plt.savefig('SPY_2Years_Plot.jpg')\n",
    "plt.show()"
   ]
  },
  {
   "cell_type": "code",
   "execution_count": null,
   "metadata": {},
   "outputs": [],
   "source": []
  },
  {
   "cell_type": "code",
   "execution_count": null,
   "metadata": {},
   "outputs": [],
   "source": []
  },
  {
   "cell_type": "code",
   "execution_count": null,
   "metadata": {},
   "outputs": [],
   "source": []
  },
  {
   "cell_type": "code",
   "execution_count": null,
   "metadata": {},
   "outputs": [],
   "source": []
  },
  {
   "cell_type": "code",
   "execution_count": null,
   "metadata": {},
   "outputs": [],
   "source": []
  },
  {
   "cell_type": "code",
   "execution_count": null,
   "metadata": {},
   "outputs": [],
   "source": []
  },
  {
   "cell_type": "code",
   "execution_count": null,
   "metadata": {},
   "outputs": [],
   "source": []
  },
  {
   "cell_type": "code",
   "execution_count": null,
   "metadata": {},
   "outputs": [],
   "source": []
  },
  {
   "cell_type": "code",
   "execution_count": null,
   "metadata": {},
   "outputs": [],
   "source": []
  },
  {
   "cell_type": "code",
   "execution_count": null,
   "metadata": {},
   "outputs": [],
   "source": []
  }
 ],
 "metadata": {
  "kernelspec": {
   "display_name": "Python 3",
   "language": "python",
   "name": "python3"
  },
  "language_info": {
   "codemirror_mode": {
    "name": "ipython",
    "version": 3
   },
   "file_extension": ".py",
   "mimetype": "text/x-python",
   "name": "python",
   "nbconvert_exporter": "python",
   "pygments_lexer": "ipython3",
   "version": "3.7.4"
  }
 },
 "nbformat": 4,
 "nbformat_minor": 4
}
